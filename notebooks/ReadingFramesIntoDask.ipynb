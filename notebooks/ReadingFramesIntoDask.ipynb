{
 "cells": [
  {
   "cell_type": "code",
   "execution_count": 1,
   "metadata": {
    "collapsed": true
   },
   "outputs": [],
   "source": [
    "import urllib.request\n",
    "from skimage import io\n",
    "\n",
    "import dask.array as da\n",
    "from dask import delayed\n",
    "\n",
    "from matplotlib import pyplot as plt\n",
    "%matplotlib inline"
   ]
  },
  {
   "cell_type": "code",
   "execution_count": 9,
   "metadata": {
    "collapsed": true
   },
   "outputs": [],
   "source": [
    "# create a list of paths to call\n",
    "\n",
    "# hide address before committing!!!!\n",
    "\n",
    "# base_url = 'http://**************/org/oceanobservatories/rawdata/files/RS03ASHS/PN03B/06-CAMHDA301/2016/09/01/CAMHDA301-20160901T000000Z.mov/frame/'\n",
    "\n",
    "base_url = 'http://104.199.125.32/org/oceanobservatories/rawdata/files/RS03ASHS/PN03B/06-CAMHDA301/2016/09/01/CAMHDA301-20160901T000000Z.mov/frame/'\n",
    "\n",
    "list_urls = [base_url+str(frame) for frame in range(1000,1200,5)]"
   ]
  },
  {
   "cell_type": "code",
   "execution_count": 10,
   "metadata": {
    "collapsed": false
   },
   "outputs": [
    {
     "name": "stdout",
     "output_type": "stream",
     "text": [
      "uint8\n",
      "(1080, 1920, 3)\n"
     ]
    }
   ],
   "source": [
    "# reading a single image to get the dimensions\n",
    "image = io.imread(list_urls[0])\n",
    "print(image.dtype)\n",
    "print(image.shape)"
   ]
  },
  {
   "cell_type": "code",
   "execution_count": 11,
   "metadata": {
    "collapsed": false
   },
   "outputs": [
    {
     "name": "stdout",
     "output_type": "stream",
     "text": [
      "(40, 1080, 1920, 3)\n",
      "<class 'dask.array.core.Array'>\n"
     ]
    }
   ],
   "source": [
    "imread =  delayed(io.imread, pure=True)\n",
    "lazy_values = [imread(url) for url in list_urls]\n",
    "arrays = [da.from_delayed(lazy_value, dtype=image.dtype, shape=image.shape) for lazy_value in lazy_values]\n",
    "stack = da.stack(arrays, axis=0)\n",
    "print(stack.shape)\n",
    "print(type(stack))"
   ]
  },
  {
   "cell_type": "code",
   "execution_count": null,
   "metadata": {
    "collapsed": true
   },
   "outputs": [],
   "source": []
  },
  {
   "cell_type": "code",
   "execution_count": 12,
   "metadata": {
    "collapsed": false
   },
   "outputs": [
    {
     "name": "stdout",
     "output_type": "stream",
     "text": [
      "CPU times: user 6.43 s, sys: 1.8 s, total: 8.23 s\n",
      "Wall time: 1min 12s\n"
     ]
    }
   ],
   "source": [
    "%%time\n",
    "temporal_mean = stack.mean(axis = (1,2,3)).compute()"
   ]
  },
  {
   "cell_type": "code",
   "execution_count": 13,
   "metadata": {
    "collapsed": false
   },
   "outputs": [
    {
     "ename": "RemoteDisconnected",
     "evalue": "Remote end closed connection without response\n\nTraceback\n---------\n  File \"/home/val/anaconda3/lib/python3.5/site-packages/dask/async.py\", line 268, in execute_task\n    result = _execute_task(task, data)\n  File \"/home/val/anaconda3/lib/python3.5/site-packages/dask/async.py\", line 248, in _execute_task\n    args2 = [_execute_task(a, cache) for a in args]\n  File \"/home/val/anaconda3/lib/python3.5/site-packages/dask/async.py\", line 248, in <listcomp>\n    args2 = [_execute_task(a, cache) for a in args]\n  File \"/home/val/anaconda3/lib/python3.5/site-packages/dask/async.py\", line 248, in _execute_task\n    args2 = [_execute_task(a, cache) for a in args]\n  File \"/home/val/anaconda3/lib/python3.5/site-packages/dask/async.py\", line 248, in <listcomp>\n    args2 = [_execute_task(a, cache) for a in args]\n  File \"/home/val/anaconda3/lib/python3.5/site-packages/dask/async.py\", line 245, in _execute_task\n    return [_execute_task(a, cache) for a in arg]\n  File \"/home/val/anaconda3/lib/python3.5/site-packages/dask/async.py\", line 245, in <listcomp>\n    return [_execute_task(a, cache) for a in arg]\n  File \"/home/val/anaconda3/lib/python3.5/site-packages/dask/async.py\", line 248, in _execute_task\n    args2 = [_execute_task(a, cache) for a in args]\n  File \"/home/val/anaconda3/lib/python3.5/site-packages/dask/async.py\", line 248, in <listcomp>\n    args2 = [_execute_task(a, cache) for a in args]\n  File \"/home/val/anaconda3/lib/python3.5/site-packages/dask/async.py\", line 249, in _execute_task\n    return func(*args2)\n  File \"/home/val/anaconda3/lib/python3.5/site-packages/skimage/io/_io.py\", line 60, in imread\n    with file_or_url_context(fname) as fname:\n  File \"/home/val/anaconda3/lib/python3.5/contextlib.py\", line 59, in __enter__\n    return next(self.gen)\n  File \"/home/val/anaconda3/lib/python3.5/site-packages/skimage/io/util.py\", line 29, in file_or_url_context\n    u = urlopen(resource_name)\n  File \"/home/val/anaconda3/lib/python3.5/urllib/request.py\", line 163, in urlopen\n    return opener.open(url, data, timeout)\n  File \"/home/val/anaconda3/lib/python3.5/urllib/request.py\", line 466, in open\n    response = self._open(req, data)\n  File \"/home/val/anaconda3/lib/python3.5/urllib/request.py\", line 484, in _open\n    '_open', req)\n  File \"/home/val/anaconda3/lib/python3.5/urllib/request.py\", line 444, in _call_chain\n    result = func(*args)\n  File \"/home/val/anaconda3/lib/python3.5/urllib/request.py\", line 1282, in http_open\n    return self.do_open(http.client.HTTPConnection, req)\n  File \"/home/val/anaconda3/lib/python3.5/urllib/request.py\", line 1257, in do_open\n    r = h.getresponse()\n  File \"/home/val/anaconda3/lib/python3.5/http/client.py\", line 1197, in getresponse\n    response.begin()\n  File \"/home/val/anaconda3/lib/python3.5/http/client.py\", line 297, in begin\n    version, status, reason = self._read_status()\n  File \"/home/val/anaconda3/lib/python3.5/http/client.py\", line 266, in _read_status\n    raise RemoteDisconnected(\"Remote end closed connection without\"\n",
     "output_type": "error",
     "traceback": [
      "\u001b[1;31m---------------------------------------------------------------------------\u001b[0m",
      "\u001b[1;31mRemoteDisconnected\u001b[0m                        Traceback (most recent call last)",
      "\u001b[1;32m<ipython-input-13-8da015202128>\u001b[0m in \u001b[0;36m<module>\u001b[1;34m()\u001b[0m\n\u001b[1;32m----> 1\u001b[1;33m \u001b[0mget_ipython\u001b[0m\u001b[1;33m(\u001b[0m\u001b[1;33m)\u001b[0m\u001b[1;33m.\u001b[0m\u001b[0mrun_cell_magic\u001b[0m\u001b[1;33m(\u001b[0m\u001b[1;34m'time'\u001b[0m\u001b[1;33m,\u001b[0m \u001b[1;34m''\u001b[0m\u001b[1;33m,\u001b[0m \u001b[1;34m'temporal_var = stack.var(axis = (1,2,3)).compute()'\u001b[0m\u001b[1;33m)\u001b[0m\u001b[1;33m\u001b[0m\u001b[0m\n\u001b[0m",
      "\u001b[1;32m/home/val/anaconda3/lib/python3.5/site-packages/IPython/core/interactiveshell.py\u001b[0m in \u001b[0;36mrun_cell_magic\u001b[1;34m(self, magic_name, line, cell)\u001b[0m\n\u001b[0;32m   2118\u001b[0m             \u001b[0mmagic_arg_s\u001b[0m \u001b[1;33m=\u001b[0m \u001b[0mself\u001b[0m\u001b[1;33m.\u001b[0m\u001b[0mvar_expand\u001b[0m\u001b[1;33m(\u001b[0m\u001b[0mline\u001b[0m\u001b[1;33m,\u001b[0m \u001b[0mstack_depth\u001b[0m\u001b[1;33m)\u001b[0m\u001b[1;33m\u001b[0m\u001b[0m\n\u001b[0;32m   2119\u001b[0m             \u001b[1;32mwith\u001b[0m \u001b[0mself\u001b[0m\u001b[1;33m.\u001b[0m\u001b[0mbuiltin_trap\u001b[0m\u001b[1;33m:\u001b[0m\u001b[1;33m\u001b[0m\u001b[0m\n\u001b[1;32m-> 2120\u001b[1;33m                 \u001b[0mresult\u001b[0m \u001b[1;33m=\u001b[0m \u001b[0mfn\u001b[0m\u001b[1;33m(\u001b[0m\u001b[0mmagic_arg_s\u001b[0m\u001b[1;33m,\u001b[0m \u001b[0mcell\u001b[0m\u001b[1;33m)\u001b[0m\u001b[1;33m\u001b[0m\u001b[0m\n\u001b[0m\u001b[0;32m   2121\u001b[0m             \u001b[1;32mreturn\u001b[0m \u001b[0mresult\u001b[0m\u001b[1;33m\u001b[0m\u001b[0m\n\u001b[0;32m   2122\u001b[0m \u001b[1;33m\u001b[0m\u001b[0m\n",
      "\u001b[1;32m<decorator-gen-60>\u001b[0m in \u001b[0;36mtime\u001b[1;34m(self, line, cell, local_ns)\u001b[0m\n",
      "\u001b[1;32m/home/val/anaconda3/lib/python3.5/site-packages/IPython/core/magic.py\u001b[0m in \u001b[0;36m<lambda>\u001b[1;34m(f, *a, **k)\u001b[0m\n\u001b[0;32m    191\u001b[0m     \u001b[1;31m# but it's overkill for just that one bit of state.\u001b[0m\u001b[1;33m\u001b[0m\u001b[1;33m\u001b[0m\u001b[0m\n\u001b[0;32m    192\u001b[0m     \u001b[1;32mdef\u001b[0m \u001b[0mmagic_deco\u001b[0m\u001b[1;33m(\u001b[0m\u001b[0marg\u001b[0m\u001b[1;33m)\u001b[0m\u001b[1;33m:\u001b[0m\u001b[1;33m\u001b[0m\u001b[0m\n\u001b[1;32m--> 193\u001b[1;33m         \u001b[0mcall\u001b[0m \u001b[1;33m=\u001b[0m \u001b[1;32mlambda\u001b[0m \u001b[0mf\u001b[0m\u001b[1;33m,\u001b[0m \u001b[1;33m*\u001b[0m\u001b[0ma\u001b[0m\u001b[1;33m,\u001b[0m \u001b[1;33m**\u001b[0m\u001b[0mk\u001b[0m\u001b[1;33m:\u001b[0m \u001b[0mf\u001b[0m\u001b[1;33m(\u001b[0m\u001b[1;33m*\u001b[0m\u001b[0ma\u001b[0m\u001b[1;33m,\u001b[0m \u001b[1;33m**\u001b[0m\u001b[0mk\u001b[0m\u001b[1;33m)\u001b[0m\u001b[1;33m\u001b[0m\u001b[0m\n\u001b[0m\u001b[0;32m    194\u001b[0m \u001b[1;33m\u001b[0m\u001b[0m\n\u001b[0;32m    195\u001b[0m         \u001b[1;32mif\u001b[0m \u001b[0mcallable\u001b[0m\u001b[1;33m(\u001b[0m\u001b[0marg\u001b[0m\u001b[1;33m)\u001b[0m\u001b[1;33m:\u001b[0m\u001b[1;33m\u001b[0m\u001b[0m\n",
      "\u001b[1;32m/home/val/anaconda3/lib/python3.5/site-packages/IPython/core/magics/execution.py\u001b[0m in \u001b[0;36mtime\u001b[1;34m(self, line, cell, local_ns)\u001b[0m\n\u001b[0;32m   1175\u001b[0m         \u001b[1;32melse\u001b[0m\u001b[1;33m:\u001b[0m\u001b[1;33m\u001b[0m\u001b[0m\n\u001b[0;32m   1176\u001b[0m             \u001b[0mst\u001b[0m \u001b[1;33m=\u001b[0m \u001b[0mclock2\u001b[0m\u001b[1;33m(\u001b[0m\u001b[1;33m)\u001b[0m\u001b[1;33m\u001b[0m\u001b[0m\n\u001b[1;32m-> 1177\u001b[1;33m             \u001b[0mexec\u001b[0m\u001b[1;33m(\u001b[0m\u001b[0mcode\u001b[0m\u001b[1;33m,\u001b[0m \u001b[0mglob\u001b[0m\u001b[1;33m,\u001b[0m \u001b[0mlocal_ns\u001b[0m\u001b[1;33m)\u001b[0m\u001b[1;33m\u001b[0m\u001b[0m\n\u001b[0m\u001b[0;32m   1178\u001b[0m             \u001b[0mend\u001b[0m \u001b[1;33m=\u001b[0m \u001b[0mclock2\u001b[0m\u001b[1;33m(\u001b[0m\u001b[1;33m)\u001b[0m\u001b[1;33m\u001b[0m\u001b[0m\n\u001b[0;32m   1179\u001b[0m             \u001b[0mout\u001b[0m \u001b[1;33m=\u001b[0m \u001b[1;32mNone\u001b[0m\u001b[1;33m\u001b[0m\u001b[0m\n",
      "\u001b[1;32m<timed exec>\u001b[0m in \u001b[0;36m<module>\u001b[1;34m()\u001b[0m\n",
      "\u001b[1;32m/home/val/anaconda3/lib/python3.5/site-packages/dask/base.py\u001b[0m in \u001b[0;36mcompute\u001b[1;34m(self, **kwargs)\u001b[0m\n\u001b[0;32m     77\u001b[0m             \u001b[0mExtra\u001b[0m \u001b[0mkeywords\u001b[0m \u001b[0mto\u001b[0m \u001b[0mforward\u001b[0m \u001b[0mto\u001b[0m \u001b[0mthe\u001b[0m \u001b[0mscheduler\u001b[0m\u001b[0;31m \u001b[0m\u001b[0;31m`\u001b[0m\u001b[0;31m`\u001b[0m\u001b[0mget\u001b[0m\u001b[0;31m`\u001b[0m\u001b[0;31m`\u001b[0m \u001b[0mfunction\u001b[0m\u001b[1;33m.\u001b[0m\u001b[1;33m\u001b[0m\u001b[0m\n\u001b[0;32m     78\u001b[0m         \"\"\"\n\u001b[1;32m---> 79\u001b[1;33m         \u001b[1;32mreturn\u001b[0m \u001b[0mcompute\u001b[0m\u001b[1;33m(\u001b[0m\u001b[0mself\u001b[0m\u001b[1;33m,\u001b[0m \u001b[1;33m**\u001b[0m\u001b[0mkwargs\u001b[0m\u001b[1;33m)\u001b[0m\u001b[1;33m[\u001b[0m\u001b[1;36m0\u001b[0m\u001b[1;33m]\u001b[0m\u001b[1;33m\u001b[0m\u001b[0m\n\u001b[0m\u001b[0;32m     80\u001b[0m \u001b[1;33m\u001b[0m\u001b[0m\n\u001b[0;32m     81\u001b[0m     \u001b[1;33m@\u001b[0m\u001b[0mclassmethod\u001b[0m\u001b[1;33m\u001b[0m\u001b[0m\n",
      "\u001b[1;32m/home/val/anaconda3/lib/python3.5/site-packages/dask/base.py\u001b[0m in \u001b[0;36mcompute\u001b[1;34m(*args, **kwargs)\u001b[0m\n\u001b[0;32m    177\u001b[0m         \u001b[0mdsk\u001b[0m \u001b[1;33m=\u001b[0m \u001b[0mmerge\u001b[0m\u001b[1;33m(\u001b[0m\u001b[0mvar\u001b[0m\u001b[1;33m.\u001b[0m\u001b[0mdask\u001b[0m \u001b[1;32mfor\u001b[0m \u001b[0mvar\u001b[0m \u001b[1;32min\u001b[0m \u001b[0mvariables\u001b[0m\u001b[1;33m)\u001b[0m\u001b[1;33m\u001b[0m\u001b[0m\n\u001b[0;32m    178\u001b[0m     \u001b[0mkeys\u001b[0m \u001b[1;33m=\u001b[0m \u001b[1;33m[\u001b[0m\u001b[0mvar\u001b[0m\u001b[1;33m.\u001b[0m\u001b[0m_keys\u001b[0m\u001b[1;33m(\u001b[0m\u001b[1;33m)\u001b[0m \u001b[1;32mfor\u001b[0m \u001b[0mvar\u001b[0m \u001b[1;32min\u001b[0m \u001b[0mvariables\u001b[0m\u001b[1;33m]\u001b[0m\u001b[1;33m\u001b[0m\u001b[0m\n\u001b[1;32m--> 179\u001b[1;33m     \u001b[0mresults\u001b[0m \u001b[1;33m=\u001b[0m \u001b[0mget\u001b[0m\u001b[1;33m(\u001b[0m\u001b[0mdsk\u001b[0m\u001b[1;33m,\u001b[0m \u001b[0mkeys\u001b[0m\u001b[1;33m,\u001b[0m \u001b[1;33m**\u001b[0m\u001b[0mkwargs\u001b[0m\u001b[1;33m)\u001b[0m\u001b[1;33m\u001b[0m\u001b[0m\n\u001b[0m\u001b[0;32m    180\u001b[0m \u001b[1;33m\u001b[0m\u001b[0m\n\u001b[0;32m    181\u001b[0m     \u001b[0mresults_iter\u001b[0m \u001b[1;33m=\u001b[0m \u001b[0miter\u001b[0m\u001b[1;33m(\u001b[0m\u001b[0mresults\u001b[0m\u001b[1;33m)\u001b[0m\u001b[1;33m\u001b[0m\u001b[0m\n",
      "\u001b[1;32m/home/val/anaconda3/lib/python3.5/site-packages/dask/threaded.py\u001b[0m in \u001b[0;36mget\u001b[1;34m(dsk, result, cache, num_workers, **kwargs)\u001b[0m\n\u001b[0;32m     74\u001b[0m     results = get_async(pool.apply_async, len(pool._pool), dsk, result,\n\u001b[0;32m     75\u001b[0m                         \u001b[0mcache\u001b[0m\u001b[1;33m=\u001b[0m\u001b[0mcache\u001b[0m\u001b[1;33m,\u001b[0m \u001b[0mget_id\u001b[0m\u001b[1;33m=\u001b[0m\u001b[0m_thread_get_id\u001b[0m\u001b[1;33m,\u001b[0m\u001b[1;33m\u001b[0m\u001b[0m\n\u001b[1;32m---> 76\u001b[1;33m                         **kwargs)\n\u001b[0m\u001b[0;32m     77\u001b[0m \u001b[1;33m\u001b[0m\u001b[0m\n\u001b[0;32m     78\u001b[0m     \u001b[1;31m# Cleanup pools associated to dead threads\u001b[0m\u001b[1;33m\u001b[0m\u001b[1;33m\u001b[0m\u001b[0m\n",
      "\u001b[1;32m/home/val/anaconda3/lib/python3.5/site-packages/dask/async.py\u001b[0m in \u001b[0;36mget_async\u001b[1;34m(apply_async, num_workers, dsk, result, cache, get_id, raise_on_exception, rerun_exceptions_locally, callbacks, dumps, loads, **kwargs)\u001b[0m\n\u001b[0;32m    491\u001b[0m                     \u001b[0m_execute_task\u001b[0m\u001b[1;33m(\u001b[0m\u001b[0mtask\u001b[0m\u001b[1;33m,\u001b[0m \u001b[0mdata\u001b[0m\u001b[1;33m)\u001b[0m  \u001b[1;31m# Re-execute locally\u001b[0m\u001b[1;33m\u001b[0m\u001b[0m\n\u001b[0;32m    492\u001b[0m                 \u001b[1;32melse\u001b[0m\u001b[1;33m:\u001b[0m\u001b[1;33m\u001b[0m\u001b[0m\n\u001b[1;32m--> 493\u001b[1;33m                     \u001b[1;32mraise\u001b[0m\u001b[1;33m(\u001b[0m\u001b[0mremote_exception\u001b[0m\u001b[1;33m(\u001b[0m\u001b[0mres\u001b[0m\u001b[1;33m,\u001b[0m \u001b[0mtb\u001b[0m\u001b[1;33m)\u001b[0m\u001b[1;33m)\u001b[0m\u001b[1;33m\u001b[0m\u001b[0m\n\u001b[0m\u001b[0;32m    494\u001b[0m             \u001b[0mstate\u001b[0m\u001b[1;33m[\u001b[0m\u001b[1;34m'cache'\u001b[0m\u001b[1;33m]\u001b[0m\u001b[1;33m[\u001b[0m\u001b[0mkey\u001b[0m\u001b[1;33m]\u001b[0m \u001b[1;33m=\u001b[0m \u001b[0mres\u001b[0m\u001b[1;33m\u001b[0m\u001b[0m\n\u001b[0;32m    495\u001b[0m             \u001b[0mfinish_task\u001b[0m\u001b[1;33m(\u001b[0m\u001b[0mdsk\u001b[0m\u001b[1;33m,\u001b[0m \u001b[0mkey\u001b[0m\u001b[1;33m,\u001b[0m \u001b[0mstate\u001b[0m\u001b[1;33m,\u001b[0m \u001b[0mresults\u001b[0m\u001b[1;33m,\u001b[0m \u001b[0mkeyorder\u001b[0m\u001b[1;33m.\u001b[0m\u001b[0mget\u001b[0m\u001b[1;33m)\u001b[0m\u001b[1;33m\u001b[0m\u001b[0m\n",
      "\u001b[1;31mRemoteDisconnected\u001b[0m: Remote end closed connection without response\n\nTraceback\n---------\n  File \"/home/val/anaconda3/lib/python3.5/site-packages/dask/async.py\", line 268, in execute_task\n    result = _execute_task(task, data)\n  File \"/home/val/anaconda3/lib/python3.5/site-packages/dask/async.py\", line 248, in _execute_task\n    args2 = [_execute_task(a, cache) for a in args]\n  File \"/home/val/anaconda3/lib/python3.5/site-packages/dask/async.py\", line 248, in <listcomp>\n    args2 = [_execute_task(a, cache) for a in args]\n  File \"/home/val/anaconda3/lib/python3.5/site-packages/dask/async.py\", line 248, in _execute_task\n    args2 = [_execute_task(a, cache) for a in args]\n  File \"/home/val/anaconda3/lib/python3.5/site-packages/dask/async.py\", line 248, in <listcomp>\n    args2 = [_execute_task(a, cache) for a in args]\n  File \"/home/val/anaconda3/lib/python3.5/site-packages/dask/async.py\", line 245, in _execute_task\n    return [_execute_task(a, cache) for a in arg]\n  File \"/home/val/anaconda3/lib/python3.5/site-packages/dask/async.py\", line 245, in <listcomp>\n    return [_execute_task(a, cache) for a in arg]\n  File \"/home/val/anaconda3/lib/python3.5/site-packages/dask/async.py\", line 248, in _execute_task\n    args2 = [_execute_task(a, cache) for a in args]\n  File \"/home/val/anaconda3/lib/python3.5/site-packages/dask/async.py\", line 248, in <listcomp>\n    args2 = [_execute_task(a, cache) for a in args]\n  File \"/home/val/anaconda3/lib/python3.5/site-packages/dask/async.py\", line 249, in _execute_task\n    return func(*args2)\n  File \"/home/val/anaconda3/lib/python3.5/site-packages/skimage/io/_io.py\", line 60, in imread\n    with file_or_url_context(fname) as fname:\n  File \"/home/val/anaconda3/lib/python3.5/contextlib.py\", line 59, in __enter__\n    return next(self.gen)\n  File \"/home/val/anaconda3/lib/python3.5/site-packages/skimage/io/util.py\", line 29, in file_or_url_context\n    u = urlopen(resource_name)\n  File \"/home/val/anaconda3/lib/python3.5/urllib/request.py\", line 163, in urlopen\n    return opener.open(url, data, timeout)\n  File \"/home/val/anaconda3/lib/python3.5/urllib/request.py\", line 466, in open\n    response = self._open(req, data)\n  File \"/home/val/anaconda3/lib/python3.5/urllib/request.py\", line 484, in _open\n    '_open', req)\n  File \"/home/val/anaconda3/lib/python3.5/urllib/request.py\", line 444, in _call_chain\n    result = func(*args)\n  File \"/home/val/anaconda3/lib/python3.5/urllib/request.py\", line 1282, in http_open\n    return self.do_open(http.client.HTTPConnection, req)\n  File \"/home/val/anaconda3/lib/python3.5/urllib/request.py\", line 1257, in do_open\n    r = h.getresponse()\n  File \"/home/val/anaconda3/lib/python3.5/http/client.py\", line 1197, in getresponse\n    response.begin()\n  File \"/home/val/anaconda3/lib/python3.5/http/client.py\", line 297, in begin\n    version, status, reason = self._read_status()\n  File \"/home/val/anaconda3/lib/python3.5/http/client.py\", line 266, in _read_status\n    raise RemoteDisconnected(\"Remote end closed connection without\"\n"
     ]
    }
   ],
   "source": [
    "%%time\n",
    "temporal_var = stack.var(axis = (1,2,3)).compute()"
   ]
  },
  {
   "cell_type": "code",
   "execution_count": 14,
   "metadata": {
    "collapsed": false
   },
   "outputs": [
    {
     "data": {
      "text/plain": [
       "[<matplotlib.lines.Line2D at 0x7f1f3f8eadd8>]"
      ]
     },
     "execution_count": 14,
     "metadata": {},
     "output_type": "execute_result"
    },
    {
     "data": {
      "image/png": "[encoded data removed]",
      "text/plain": [
       "<matplotlib.figure.Figure at 0x7f1f3f9e1828>"
      ]
     },
     "metadata": {},
     "output_type": "display_data"
    }
   ],
   "source": [
    "plt.plot(temporal_mean)"
   ]
  },
  {
   "cell_type": "code",
   "execution_count": 15,
   "metadata": {
    "collapsed": false
   },
   "outputs": [
    {
     "data": {
      "text/plain": [
       "[<matplotlib.lines.Line2D at 0x7f1f3f855400>]"
      ]
     },
     "execution_count": 15,
     "metadata": {},
     "output_type": "execute_result"
    },
    {
     "data": {
      "image/png": "[encoded data removed]",
      "text/plain": [
       "<matplotlib.figure.Figure at 0x7f1f3f885748>"
      ]
     },
     "metadata": {},
     "output_type": "display_data"
    }
   ],
   "source": [
    "plt.plot(temporal_var)"
   ]
  },
  {
   "cell_type": "code",
   "execution_count": null,
   "metadata": {
    "collapsed": true
   },
   "outputs": [],
   "source": []
  }
 ],
 "metadata": {
  "kernelspec": {
   "display_name": "Python 3",
   "language": "python",
   "name": "python3"
  },
  "language_info": {
   "codemirror_mode": {
    "name": "ipython",
    "version": 3
   },
   "file_extension": ".py",
   "mimetype": "text/x-python",
   "name": "python",
   "nbconvert_exporter": "python",
   "pygments_lexer": "ipython3",
   "version": "3.5.2"
  }
 },
 "nbformat": 4,
 "nbformat_minor": 0
}
